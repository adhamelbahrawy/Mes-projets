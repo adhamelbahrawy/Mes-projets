{
 "cells": [
  {
   "cell_type": "code",
   "execution_count": 46,
   "metadata": {},
   "outputs": [],
   "source": [
    "import pandas as pd\n",
    "import numpy as np\n",
    "import math\n",
    "from sklearn.model_selection import train_test_split\n",
    "\n",
    "df = pd.read_csv(\"synthetic.csv\")"
   ]
  },
  {
   "cell_type": "code",
   "execution_count": 65,
   "metadata": {},
   "outputs": [],
   "source": [
    "PROFMAX = 8"
   ]
  },
  {
   "cell_type": "code",
   "execution_count": 48,
   "metadata": {},
   "outputs": [],
   "source": [
    "def entropie(df : pd.DataFrame):\n",
    "    sum = 0\n",
    "    ndata = df.shape[0]\n",
    "    series = df[\"Class\"].value_counts()\n",
    "    #si on voulait parcourir les classes on passe par .index\n",
    "    for nk in series:\n",
    "        sum +=  (nk/ndata)*(math.log2(nk/ndata))\n",
    "    return - sum\n",
    "\n",
    "def gainatt(df : pd.DataFrame, a : str):\n",
    "    e =  entropie(df)\n",
    "    gain = 0\n",
    "    split_value = 0\n",
    "    partitions = [None, None]\n",
    "    if a != \"\":\n",
    "        for i in [0.25, 0.5, 0.75]:\n",
    "            q = df.quantile(i)[a]\n",
    "            p0test = df[df[a] < q]\n",
    "            p1test = df[df[a] >= q]\n",
    "            gaintest = e - ( (len(p0test) * entropie(p0test) / len(df)) + (len(p1test) * entropie(p1test) / len(df)) )\n",
    "            if ( gaintest > gain ):\n",
    "                split_value = q\n",
    "                partitions[0] = p0test\n",
    "                partitions[1] = p1test\n",
    "                gain = gaintest\n",
    "                break\n",
    "    return(gain, split_value, partitions)\n",
    "\n",
    "def gain(df : pd.DataFrame, atts : list[str]):\n",
    "    gain = 0.\n",
    "    att = \"\"\n",
    "    res = (0, 0, [None, None])\n",
    "    for i in atts:\n",
    "        res = gainatt(df, i)\n",
    "        if(res[0] >= gain):\n",
    "            gain = res[0]\n",
    "            att = i\n",
    "    return (att,)+gainatt(df,att)\n",
    "\n",
    "\n",
    "class Noeud(object):\n",
    "    def __init__(self, vsplit =0, att=None, fg=None, fd=None, pred : pd.Series =None, leaf : bool =True):\n",
    "        self.vsplit = vsplit\n",
    "        self.att = att\n",
    "        self.fg = fg\n",
    "        self.fd = fd\n",
    "        self.pred = pred\n",
    "        self.leaf = leaf\n",
    "    def node_result(self, spacing):\n",
    "        string = \"\"\n",
    "        for x,y in self.pred.items():\n",
    "            string += spacing + \" Class \" + str(x) + \" Count : \" + str(y) + \"\\n\"\n",
    "        string += spacing\n",
    "        return string\n",
    "\n",
    "def construction_arbre(df : pd.DataFrame, label : str, atts : list[str], prof : int):\n",
    "    att, g, split, parts = gain(df, atts)\n",
    "    prediction = df[label].value_counts()\n",
    "    if(prof >= PROFMAX or len(atts) == 0 or g == 0):\n",
    "        return Noeud(pred = prediction, leaf=True)\n",
    "    att_rest = [x for x in atts if x != att]\n",
    "    fg = construction_arbre(parts[0], label, att_rest, prof+1)\n",
    "    fd = construction_arbre(parts[1], label, att_rest, prof+1)\n",
    "    return Noeud(split, att, fg,fd, prediction, leaf=False)\n",
    "    \n",
    "def print_tree(node : Noeud, spacing : str =\" \"):\n",
    "    if node is None:\n",
    "        return\n",
    "    if node.leaf:\n",
    "        print(node.node_result(spacing))\n",
    "        return\n",
    "    print(\"{}[Attribute: {} Split value: {}]\".format(spacing, node.att, node.vsplit))\n",
    "    print(spacing + \"> True\")\n",
    "    print_tree(node.fg , spacing + \"-\")\n",
    "    print(spacing + \"> False\")\n",
    "    print_tree(node.fd , spacing + \"-\")\n",
    "    return\n",
    "\n",
    "def inference(instance : pd.DataFrame, node : Noeud, a : str):\n",
    "    if(node.leaf):\n",
    "        # Affichage des pourcentages des prédictions\n",
    "        # sum = 0\n",
    "        # maxcount = 0\n",
    "        # for i in range(len(node.pred)):\n",
    "        #     sum += node.pred.values[i]\n",
    "        # for i in range(len(node.pred)):\n",
    "        #     print(\"Class \", node.pred.index[i], \" : \", node.pred.values[i]*100/sum,\"%\")\n",
    "        return node.pred.index[0]\n",
    "    else:\n",
    "        v = instance[a]\n",
    "        if(v < node.vsplit):\n",
    "            return inference(instance, node.fg, node.fg.att)\n",
    "        else:\n",
    "            return inference(instance, node.fd, node.fd.att)"
   ]
  },
  {
   "cell_type": "code",
   "execution_count": 70,
   "metadata": {},
   "outputs": [
    {
     "data": {
      "text/plain": [
       "'Class'"
      ]
     },
     "execution_count": 70,
     "metadata": {},
     "output_type": "execute_result"
    }
   ],
   "source": [
    "cols = df.columns.values.tolist()\n",
    "\n",
    "features = cols[0:14] \n",
    "label = cols[14]\n",
    "X = df[features]\n",
    "y = df[label]\n",
    "X_train, X_test, y_train, y_test = train_test_split(X, y, test_size=0.2, random_state=42)"
   ]
  },
  {
   "cell_type": "code",
   "execution_count": 50,
   "metadata": {},
   "outputs": [],
   "source": [
    "df_train = pd.concat([X_train, y_train],axis=1)\n",
    "df_test = pd.concat([X_test, y_test],axis=1)\n",
    "\n",
    "df_actual = pd.DataFrame(y_test)\n",
    "df_actual.to_csv(\"arbre/y_test.csv\",index=False, header=False)"
   ]
  },
  {
   "cell_type": "code",
   "execution_count": 66,
   "metadata": {},
   "outputs": [],
   "source": [
    "arbre = construction_arbre(df_train, label, features, 0)"
   ]
  },
  {
   "cell_type": "code",
   "execution_count": 67,
   "metadata": {},
   "outputs": [],
   "source": [
    "preds_class :list[int] = []\n",
    "for i in range(len(df_test)):\n",
    "    preds_class += [inference(df_test.iloc[i], arbre, arbre.att)]\n",
    "\n",
    "df_preds = pd.DataFrame(data=preds_class, columns=[0,])\n",
    "\n",
    "filnename = \"arbre/preds_arbre\"\n",
    "filnename += str(PROFMAX) + \".csv\"\n",
    "\n",
    "df_preds.to_csv(filnename, index=False, header=False)"
   ]
  }
 ],
 "metadata": {
  "interpreter": {
   "hash": "aee8b7b246df8f9039afb4144a1f6fd8d2ca17a180786b69acc140d282b71a49"
  },
  "kernelspec": {
   "display_name": "Python 3.9.12 64-bit",
   "language": "python",
   "name": "python3"
  },
  "language_info": {
   "codemirror_mode": {
    "name": "ipython",
    "version": 3
   },
   "file_extension": ".py",
   "mimetype": "text/x-python",
   "name": "python",
   "nbconvert_exporter": "python",
   "pygments_lexer": "ipython3",
   "version": "3.9.12"
  },
  "orig_nbformat": 4
 },
 "nbformat": 4,
 "nbformat_minor": 2
}
